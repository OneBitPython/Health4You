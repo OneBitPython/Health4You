{
 "cells": [
  {
   "cell_type": "code",
   "execution_count": 1,
   "source": [
    "import os\r\n",
    "import numpy as np\r\n",
    "from sklearn.naive_bayes import GaussianNB\r\n",
    "from sklearn.svm import SVC\r\n",
    "import cv2\r\n",
    "from keras.models import load_model\r\n",
    "from sklearn.model_selection import train_test_split\r\n",
    "from tensorflow import keras"
   ],
   "outputs": [],
   "metadata": {}
  },
  {
   "cell_type": "code",
   "execution_count": 2,
   "source": [
    "values = []\r\n",
    "images = []\r\n",
    "\r\n",
    "for file in os.listdir('CT/COVID'):\r\n",
    "    img = cv2.imread(f'CT/COVID/{file}')\r\n",
    "    img = cv2.resize(img, (256, 256))\r\n",
    "    images.append(img)\r\n",
    "    values.append(1)\r\n",
    "    \r\n",
    "    if len(images) == 1200:\r\n",
    "        break\r\n",
    "\r\n",
    "for file in os.listdir('CT/COVID')[-1::-1]:\r\n",
    "    img = cv2.imread(f'CT/COVID/{file}')\r\n",
    "    img = cv2.resize(img, (256, 256))\r\n",
    "    images.append(img)\r\n",
    "    values.append(1)\r\n",
    "    \r\n",
    "    if len(images) == 2300:\r\n",
    "        break"
   ],
   "outputs": [
    {
     "output_type": "error",
     "ename": "NameError",
     "evalue": "name 'os' is not defined",
     "traceback": [
      "\u001b[1;31m---------------------------------------------------------------------------\u001b[0m",
      "\u001b[1;31mNameError\u001b[0m                                 Traceback (most recent call last)",
      "\u001b[1;32m<ipython-input-2-02ae9d5c5afc>\u001b[0m in \u001b[0;36m<module>\u001b[1;34m\u001b[0m\n\u001b[0;32m      2\u001b[0m \u001b[0mimages\u001b[0m \u001b[1;33m=\u001b[0m \u001b[1;33m[\u001b[0m\u001b[1;33m]\u001b[0m\u001b[1;33m\u001b[0m\u001b[1;33m\u001b[0m\u001b[0m\n\u001b[0;32m      3\u001b[0m \u001b[1;33m\u001b[0m\u001b[0m\n\u001b[1;32m----> 4\u001b[1;33m \u001b[1;32mfor\u001b[0m \u001b[0mfile\u001b[0m \u001b[1;32min\u001b[0m \u001b[0mos\u001b[0m\u001b[1;33m.\u001b[0m\u001b[0mlistdir\u001b[0m\u001b[1;33m(\u001b[0m\u001b[1;34m'CT/COVID'\u001b[0m\u001b[1;33m)\u001b[0m\u001b[1;33m:\u001b[0m\u001b[1;33m\u001b[0m\u001b[1;33m\u001b[0m\u001b[0m\n\u001b[0m\u001b[0;32m      5\u001b[0m     \u001b[0mimg\u001b[0m \u001b[1;33m=\u001b[0m \u001b[0mcv2\u001b[0m\u001b[1;33m.\u001b[0m\u001b[0mimread\u001b[0m\u001b[1;33m(\u001b[0m\u001b[1;34mf'CT/COVID/{file}'\u001b[0m\u001b[1;33m)\u001b[0m\u001b[1;33m\u001b[0m\u001b[1;33m\u001b[0m\u001b[0m\n\u001b[0;32m      6\u001b[0m     \u001b[0mimg\u001b[0m \u001b[1;33m=\u001b[0m \u001b[0mcv2\u001b[0m\u001b[1;33m.\u001b[0m\u001b[0mresize\u001b[0m\u001b[1;33m(\u001b[0m\u001b[0mimg\u001b[0m\u001b[1;33m,\u001b[0m \u001b[1;33m(\u001b[0m\u001b[1;36m256\u001b[0m\u001b[1;33m,\u001b[0m \u001b[1;36m256\u001b[0m\u001b[1;33m)\u001b[0m\u001b[1;33m)\u001b[0m\u001b[1;33m\u001b[0m\u001b[1;33m\u001b[0m\u001b[0m\n",
      "\u001b[1;31mNameError\u001b[0m: name 'os' is not defined"
     ]
    }
   ],
   "metadata": {}
  },
  {
   "cell_type": "code",
   "execution_count": 7,
   "source": [
    "for file in os.listdir('CT/Non-COVID'):\r\n",
    "    try:\r\n",
    "        img = cv2.imread(f'CT/Non-COVID/{file}')\r\n",
    "        img = cv2.resize(img, (256, 256))\r\n",
    "        images.append(img)\r\n",
    "        values.append(0)\r\n",
    "\r\n",
    "        if len(images) == 3500:\r\n",
    "            break\r\n",
    "    except:\r\n",
    "        pass\r\n",
    "        \r\n",
    "for file in os.listdir('CT/Non-COVID')[-1::-1]:\r\n",
    "    img = cv2.imread(f'CT/Non-COVID/{file}')\r\n",
    "    img = cv2.resize(img, (256, 256))\r\n",
    "    images.append(img)\r\n",
    "    values.append(0)\r\n",
    "    \r\n",
    "    if len(images) == 4600:\r\n",
    "        break"
   ],
   "outputs": [],
   "metadata": {}
  },
  {
   "cell_type": "code",
   "execution_count": 8,
   "source": [
    "images = np.array(images)\r\n",
    "values = np.array(values)"
   ],
   "outputs": [],
   "metadata": {}
  },
  {
   "cell_type": "code",
   "execution_count": 9,
   "source": [
    "X_train, X_test, Y_train, Y_test = train_test_split(images, values)"
   ],
   "outputs": [],
   "metadata": {}
  },
  {
   "cell_type": "code",
   "execution_count": 10,
   "source": [
    "model = keras.Sequential([\r\n",
    "    #cnn\r\n",
    "    keras.layers.Conv2D(kernel_size=(3,3), filters=64, activation=\"relu\", input_shape = (256,256,3)),\r\n",
    "    keras.layers.MaxPooling2D((2,2)),\r\n",
    "    keras.layers.Conv2D(kernel_size=(3,3), filters=64, activation=\"relu\"),\r\n",
    "    keras.layers.MaxPooling2D((2,2)),\r\n",
    "    keras.layers.Conv2D(kernel_size=(3,3), filters=64, activation=\"relu\"),\r\n",
    "    keras.layers.MaxPooling2D((2,2)),\r\n",
    "    \r\n",
    "    #ann\r\n",
    "    keras.layers.Flatten(input_shape=(256, 256)),\r\n",
    "    keras.layers.Dense(64, activation=\"relu\"),\r\n",
    "    keras.layers.Dense(64, activation=\"relu\"),\r\n",
    "    keras.layers.Dense(2, activation=\"softmax\")\r\n",
    "])"
   ],
   "outputs": [],
   "metadata": {}
  },
  {
   "cell_type": "code",
   "execution_count": 11,
   "source": [
    "model.compile(loss=\"sparse_categorical_crossentropy\", optimizer=\"adam\", metrics=['accuracy'])"
   ],
   "outputs": [],
   "metadata": {}
  },
  {
   "cell_type": "code",
   "execution_count": 12,
   "source": [
    "model.fit(X_train, Y_train, epochs=5)"
   ],
   "outputs": [
    {
     "output_type": "stream",
     "name": "stdout",
     "text": [
      "Epoch 1/5\n",
      "108/108 [==============================] - 401s 4s/step - loss: 3.8830 - accuracy: 0.8696\n",
      "Epoch 2/5\n",
      "108/108 [==============================] - 405s 4s/step - loss: 0.2022 - accuracy: 0.9304\n",
      "Epoch 3/5\n",
      "108/108 [==============================] - 381s 4s/step - loss: 0.1187 - accuracy: 0.9629\n",
      "Epoch 4/5\n",
      "108/108 [==============================] - 408s 4s/step - loss: 0.1202 - accuracy: 0.9626\n",
      "Epoch 5/5\n",
      "108/108 [==============================] - 1013s 9s/step - loss: 0.0593 - accuracy: 0.9791\n"
     ]
    },
    {
     "output_type": "execute_result",
     "data": {
      "text/plain": [
       "<tensorflow.python.keras.callbacks.History at 0x242fc4d4be0>"
      ]
     },
     "metadata": {},
     "execution_count": 12
    }
   ],
   "metadata": {}
  },
  {
   "cell_type": "code",
   "execution_count": 13,
   "source": [
    "model.evaluate(X_test, Y_test)"
   ],
   "outputs": [
    {
     "output_type": "stream",
     "name": "stdout",
     "text": [
      "36/36 [==============================] - 18s 488ms/step - loss: 0.1146 - accuracy: 0.9635\n"
     ]
    },
    {
     "output_type": "execute_result",
     "data": {
      "text/plain": [
       "[0.11459126323461533, 0.9634782671928406]"
      ]
     },
     "metadata": {},
     "execution_count": 13
    }
   ],
   "metadata": {}
  },
  {
   "cell_type": "code",
   "execution_count": 14,
   "source": [
    "model.save(\"corona_model_2.hdf5\")"
   ],
   "outputs": [],
   "metadata": {}
  },
  {
   "cell_type": "code",
   "execution_count": 2,
   "source": [
    "loaded = load_model('corona_model_2.hdf5')\r\n",
    "# loaded.evaluate(X_train, Y_train)"
   ],
   "outputs": [],
   "metadata": {}
  },
  {
   "cell_type": "code",
   "execution_count": 7,
   "source": [
    "num = 9\r\n",
    "\r\n",
    "img = cv2.imread('CT_NORMAL.jpg')\r\n",
    "img = cv2.resize(img,(256, 256))\r\n",
    "print(np.argmax(loaded.predict(img.reshape(1, 256, 256, 3))))\r\n",
    "# print(Y_test[:10])"
   ],
   "outputs": [
    {
     "output_type": "stream",
     "name": "stdout",
     "text": [
      "0\n"
     ]
    }
   ],
   "metadata": {}
  },
  {
   "cell_type": "code",
   "execution_count": 10,
   "source": [
    "cv2.imshow('img', img)\r\n",
    "cv2.waitKey(0)\r\n",
    "cv2.destroyAllWindows()"
   ],
   "outputs": [],
   "metadata": {}
  },
  {
   "cell_type": "code",
   "execution_count": 46,
   "source": [
    "num = 47\r\n",
    "print(np.argmax(model.predict(X_test[num].reshape(1, 256, 256, 3))))\r\n",
    "print(Y_test[num])"
   ],
   "outputs": [
    {
     "output_type": "stream",
     "name": "stdout",
     "text": [
      "0\n",
      "0\n"
     ]
    }
   ],
   "metadata": {}
  },
  {
   "cell_type": "code",
   "execution_count": null,
   "source": [],
   "outputs": [],
   "metadata": {}
  }
 ],
 "metadata": {
  "kernelspec": {
   "name": "python3",
   "display_name": "Python 3.8.8 64-bit ('base': conda)"
  },
  "language_info": {
   "codemirror_mode": {
    "name": "ipython",
    "version": 3
   },
   "file_extension": ".py",
   "mimetype": "text/x-python",
   "name": "python",
   "nbconvert_exporter": "python",
   "pygments_lexer": "ipython3",
   "version": "3.8.8"
  },
  "interpreter": {
   "hash": "6b692e3a11aa1a60668656121e96c388d4a5505e00af753fe688c26faac09b4c"
  }
 },
 "nbformat": 4,
 "nbformat_minor": 5
}